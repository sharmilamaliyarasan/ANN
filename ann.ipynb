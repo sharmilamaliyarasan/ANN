{
 "cells": [
  {
   "cell_type": "code",
   "execution_count": 4,
   "id": "928da0d2",
   "metadata": {},
   "outputs": [],
   "source": [
    "import pandas as pd\n",
    "from sklearn.model_selection import train_test_split, GridSearchCV\n",
    "from sklearn.preprocessing import LabelEncoder, StandardScaler\n",
    "from sklearn.neural_network import MLPClassifier\n",
    "from sklearn.metrics import accuracy_score"
   ]
  },
  {
   "cell_type": "code",
   "execution_count": 5,
   "id": "ad0b0fd7",
   "metadata": {},
   "outputs": [],
   "source": [
    "df = pd.read_csv(\"Iris_extended.csv\")"
   ]
  },
  {
   "cell_type": "code",
   "execution_count": 6,
   "id": "9e9b4e70",
   "metadata": {},
   "outputs": [],
   "source": [
    "X = df.drop(columns=[\"Species\"])\n",
    "y = df[\"Species\"]"
   ]
  },
  {
   "cell_type": "code",
   "execution_count": 7,
   "id": "2daf2d55",
   "metadata": {},
   "outputs": [],
   "source": [
    "le = LabelEncoder()\n",
    "y = le.fit_transform(y)"
   ]
  },
  {
   "cell_type": "code",
   "execution_count": 8,
   "id": "b9790dd8",
   "metadata": {},
   "outputs": [],
   "source": [
    "scaler = StandardScaler()\n",
    "X_scaled = scaler.fit_transform(X)"
   ]
  },
  {
   "cell_type": "code",
   "execution_count": 9,
   "id": "d699d7ab",
   "metadata": {},
   "outputs": [],
   "source": [
    "X_train, X_test, y_train, y_test = train_test_split(\n",
    "    X_scaled, y, test_size=0.2, random_state=42, stratify=y\n",
    ")"
   ]
  },
  {
   "cell_type": "code",
   "execution_count": 10,
   "id": "deb7e18e",
   "metadata": {},
   "outputs": [
    {
     "name": "stdout",
     "output_type": "stream",
     "text": [
      "Accuracy (before tuning): 0.98\n"
     ]
    }
   ],
   "source": [
    "baseline_mlp = MLPClassifier(random_state=42, max_iter=500)\n",
    "baseline_mlp.fit(X_train, y_train)\n",
    "y_pred_baseline = baseline_mlp.predict(X_test)\n",
    "baseline_acc = accuracy_score(y_test, y_pred_baseline)\n",
    "\n",
    "print(\"Accuracy (before tuning):\", baseline_acc)"
   ]
  },
  {
   "cell_type": "code",
   "execution_count": 11,
   "id": "5b6a1128",
   "metadata": {},
   "outputs": [],
   "source": [
    "param_grid = {\n",
    "    \"hidden_layer_sizes\": [(8,), (16,), (32,), (16,8), (32,16)],  \n",
    "    \"activation\": [\"relu\", \"tanh\", \"logistic\"],   \n",
    "    \"solver\": [\"adam\", \"sgd\"],                   \n",
    "    \"learning_rate_init\": [0.001, 0.01, 0.1],    \n",
    "    \"max_iter\": [500]\n",
    "}"
   ]
  },
  {
   "cell_type": "code",
   "execution_count": 12,
   "id": "a9d0d8c6",
   "metadata": {},
   "outputs": [
    {
     "name": "stdout",
     "output_type": "stream",
     "text": [
      "Fitting 5 folds for each of 90 candidates, totalling 450 fits\n",
      "Best Parameters: {'activation': 'tanh', 'hidden_layer_sizes': (8,), 'learning_rate_init': 0.1, 'max_iter': 500, 'solver': 'adam'}\n",
      "Best CV Accuracy: 0.99\n"
     ]
    }
   ],
   "source": [
    "mlp = MLPClassifier(random_state=42)\n",
    "\n",
    "grid_search = GridSearchCV(\n",
    "    estimator=mlp,\n",
    "    param_grid=param_grid,\n",
    "    cv=5,\n",
    "    n_jobs=-1,\n",
    "    verbose=2\n",
    ")\n",
    "\n",
    "grid_search.fit(X_train, y_train)\n",
    "print(\"Best Parameters:\", grid_search.best_params_)\n",
    "print(\"Best CV Accuracy:\", grid_search.best_score_)"
   ]
  },
  {
   "cell_type": "code",
   "execution_count": 13,
   "id": "f2044c91",
   "metadata": {},
   "outputs": [
    {
     "name": "stdout",
     "output_type": "stream",
     "text": [
      "Test Accuracy After Tuning: 1.0\n"
     ]
    }
   ],
   "source": [
    "best_model = grid_search.best_estimator_\n",
    "y_pred_best = best_model.predict(X_test)\n",
    "best_acc = accuracy_score(y_test, y_pred_best)\n",
    "\n",
    "print(\"Test Accuracy After Tuning:\", best_acc)"
   ]
  },
  {
   "cell_type": "code",
   "execution_count": 14,
   "id": "a9f4930d",
   "metadata": {},
   "outputs": [
    {
     "data": {
      "image/png": "[encoded data removed]",
      "text/plain": [
       "<Figure size 600x400 with 1 Axes>"
      ]
     },
     "metadata": {},
     "output_type": "display_data"
    }
   ],
   "source": [
    "import matplotlib.pyplot as plt\n",
    "\n",
    "best_model = grid_search.best_estimator_\n",
    "\n",
    "plt.figure(figsize=(6,4))\n",
    "plt.plot(best_model.loss_curve_, marker=\"o\", color=\"blue\")\n",
    "plt.title(\"Learning Curve - Loss vs Iterations\")\n",
    "plt.xlabel(\"Iterations (epochs)\")\n",
    "plt.ylabel(\"Loss\")\n",
    "plt.grid(True)\n",
    "plt.show()\n",
    "\n"
   ]
  },
  {
   "cell_type": "code",
   "execution_count": 19,
   "id": "38f3066d",
   "metadata": {},
   "outputs": [],
   "source": [
    "import pickle\n",
    "\n",
    "with open(\"best_model.pkl\", \"wb\") as f:\n",
    "    pickle.dump(best_model, f)\n",
    "\n",
    "with open(\"scaler.pkl\", \"wb\") as f:\n",
    "    pickle.dump(scaler, f)\n",
    "\n",
    "with open(\"label_encoder.pkl\", \"wb\") as f:\n",
    "    pickle.dump(le, f)\n"
   ]
  }
 ],
 "metadata": {
  "kernelspec": {
   "display_name": "base",
   "language": "python",
   "name": "python3"
  },
  "language_info": {
   "codemirror_mode": {
    "name": "ipython",
    "version": 3
   },
   "file_extension": ".py",
   "mimetype": "text/x-python",
   "name": "python",
   "nbconvert_exporter": "python",
   "pygments_lexer": "ipython3",
   "version": "3.13.5"
  }
 },
 "nbformat": 4,
 "nbformat_minor": 5
}
